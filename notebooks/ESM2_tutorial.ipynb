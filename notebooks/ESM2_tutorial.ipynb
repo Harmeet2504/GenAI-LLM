{
 "cells": [
  {
   "cell_type": "markdown",
   "id": "ba5d46e6",
   "metadata": {},
   "source": [
    "Generate embeddings from protein sequence data using lightweight ESM2 model"
   ]
  },
  {
   "cell_type": "code",
   "execution_count": 3,
   "id": "06594908",
   "metadata": {},
   "outputs": [],
   "source": [
    "from transformers import EsmModel, EsmTokenizer\n",
    "import torch\n",
    "\n",
    "#Suppress warnings\n",
    "import warnings\n",
    "from transformers import logging\n",
    "\n",
    "# Suppress Hugging Face warnings\n",
    "logging.set_verbosity_error()\n",
    "\n",
    "# Suppress all warnings (optional)\n",
    "warnings.filterwarnings(\"ignore\")"
   ]
  },
  {
   "cell_type": "code",
   "execution_count": 4,
   "id": "4241fe63",
   "metadata": {},
   "outputs": [
    {
     "name": "stdout",
     "output_type": "stream",
     "text": [
      "Embedding shape: torch.Size([1, 16, 320])\n"
     ]
    }
   ],
   "source": [
    "\n",
    "\n",
    "# Load large ESM-2 model\n",
    "model_name = \"facebook/esm2_t6_8M_UR50D\"\n",
    "tokenizer = EsmTokenizer.from_pretrained(model_name)\n",
    "model = EsmModel.from_pretrained(model_name)\n",
    "\n",
    "#Example protein sequence\n",
    "sequence = \"MKTLLVLLLGAAGG\"\n",
    "tokens = tokenizer(sequence, return_tensors=\"pt\")\n",
    "\n",
    "# Generate embeddings quickly\n",
    "embeddings = model(**tokens).last_hidden_state\n",
    "print(f\"Embedding shape: {embeddings.shape}\")"
   ]
  },
  {
   "cell_type": "markdown",
   "id": "5dfc096a",
   "metadata": {},
   "source": [
    "Protein mutation effect analysis"
   ]
  },
  {
   "cell_type": "code",
   "execution_count": null,
   "id": "aafa24c4",
   "metadata": {},
   "outputs": [
    {
     "name": "stderr",
     "output_type": "stream",
     "text": [
      "Some weights of EsmModel were not initialized from the model checkpoint at facebook/esm2_t12_35M_UR50D and are newly initialized: ['pooler.dense.bias', 'pooler.dense.weight']\n",
      "You should probably TRAIN this model on a down-stream task to be able to use it for predictions and inference.\n"
     ]
    },
    {
     "name": "stdout",
     "output_type": "stream",
     "text": [
      "Mutation Impact Score: 0.9933467507362366\n"
     ]
    }
   ],
   "source": [
    "# Load mid-weight ESM-2 model\n",
    "model_name = \"facebook/esm2_t12_35M_UR50D\" \n",
    "tokenizer = EsmTokenizer.from_pretrained(model_name)\n",
    "model = EsmModel.from_pretrained(model_name)\n",
    "\n",
    "# Example wild-type sequence\n",
    "sequence = \"MKTLLVLLLGAAGG\"\n",
    "\n",
    "# Introduce mutation (G -> A at position 13)\n",
    "mutated_sequence = \"MKTLLVLLLGAAGG\".replace(\"G\", \"A\", 1)\n",
    "\n",
    "# Tokenize sequences\n",
    "tokens_wt = tokenizer(sequence, return_tensors=\"pt\")\n",
    "tokens_mut = tokenizer(mutated_sequence, return_tensors=\"pt\")\n",
    "\n",
    "# Generate embeddings\n",
    "embeddings_wt = model(**tokens_wt).last_hidden_state\n",
    "embeddings_mut = model(**tokens_mut).last_hidden_state\n",
    "\n",
    "# Compute similarity (cosine similarity, lower values means proteins phenotype is affected, closer to 1 means minimal or no effect)\n",
    "similarity = torch.nn.functional.cosine_similarity(embeddings_wt.mean(dim=1), embeddings_mut.mean(dim=1))\n",
    "print(f\"Mutation Impact Score: {similarity.item()}\")\n"
   ]
  },
  {
   "cell_type": "markdown",
   "id": "a334d38a",
   "metadata": {},
   "source": [
    "Fine-Tuning ESM-2 for Mutation Effect Prediction\n",
    "High-quality datasets for ESM-based mutation effect analysis is available from several trusted sources, especially those based on Deep Mutational Scanning (DMS).\n",
    "Curated DMS datasets sources:\n",
    "- ProteinGym — 2.5M mutants across 217 assays\n",
    "- GSK DMS fine-tuning benchmark — includes normalized log-odds scores\n",
    "- Hugging Face mutation scoring tutorial — includes example data and scoring methods\n",
    "For this tutorial, a synthetic mutational effect dataset  is used to demonstrate the steps involved. The file contains the following columns:\n",
    "- sequence: wild-type protein sequence\n",
    "- mutation: e.g., \"G13A\"\n",
    "- score: experimental fitness or activity score\n",
    "\n",
    "Interpretation\n",
    "- The R² score reflects how well the model predicts mutation effects. Since this example uses synthetic dummy data with randomly generated scores, the R² value may be misleading or even negative. This is expected—there’s no real biological signal for the model to learn from. For meaningful results, consider using a curated dataset (e.g., from ProteinGym or a deep mutational scanning study) and experimenting with different model architectures. This example is intended purely to demonstrate the workflow and pipeline setup.\n",
    "\n",
    "- Predicted score: Close to 1 → likely no significant impact; close to 0 → likely disruptive.\n",
    "\n",
    "\n"
   ]
  },
  {
   "cell_type": "code",
   "execution_count": null,
   "id": "25d0b346",
   "metadata": {},
   "outputs": [
    {
     "name": "stdout",
     "output_type": "stream",
     "text": [
      "          sequence mutation  score mutated_sequence\n",
      "0   MKTLLVLLLGAAGG     G13A   0.92   MKTLLVLLLGAAAG\n",
      "1   MKTLLVLLLGAAGG     G13D   0.45   MKTLLVLLLGAADG\n",
      "2   MKTLLVLLLGAAGG     G13V   0.12   MKTLLVLLLGAAVG\n",
      "3   MKTLLVLLLGAAGG      L5P   0.78   MKTLPVLLLGAAGG\n",
      "4   MKTLLVLLLGAAGG      L5F   0.33   MKTLFVLLLGAAGG\n",
      "5   MKTLLVLLLGAAGG      L5S   0.15   MKTLSVLLLGAAGG\n",
      "6   MKTLLVLLLGAAGG     A11T   0.88   MKTLLVLLLGTAGG\n",
      "7   MKTLLVLLLGAAGG     A11G   0.51   MKTLLVLLLGGAGG\n",
      "8   MKTLLVLLLGAAGG     A11C   0.09   MKTLLVLLLGCAGG\n",
      "9   MKTLLVLLLGAAGG      K2R   0.95   MRTLLVLLLGAAGG\n",
      "10  MKTLLVLLLGAAGG      K2E   0.40   METLLVLLLGAAGG\n",
      "11  MKTLLVLLLGAAGG      K2Q   0.18   MQTLLVLLLGAAGG\n"
     ]
    }
   ],
   "source": [
    "import pandas as pd\n",
    "\n",
    "def apply_mutation(seq, mut):\n",
    "    \"\"\"\n",
    "    Function to generate mutated sequence given wild type sequece and mutation\n",
    "    \"\"\"\n",
    "    pos = int(mut[1:-1]) - 1\n",
    "    return seq[:pos] + mut[-1] + seq[pos+1:]\n",
    "\n",
    "df = pd.read_csv(\"../data/mutations.csv\")\n",
    "df[\"mutated_sequence\"] = df.apply(lambda row: apply_mutation(row[\"sequence\"], row[\"mutation\"]), axis=1)\n",
    "print(df)"
   ]
  },
  {
   "cell_type": "code",
   "execution_count": 7,
   "id": "022efc08",
   "metadata": {},
   "outputs": [
    {
     "name": "stderr",
     "output_type": "stream",
     "text": [
      "100%|██████████| 12/12 [00:00<00:00, 100.89it/s]\n"
     ]
    },
    {
     "data": {
      "text/html": [
       "<div>\n",
       "<style scoped>\n",
       "    .dataframe tbody tr th:only-of-type {\n",
       "        vertical-align: middle;\n",
       "    }\n",
       "\n",
       "    .dataframe tbody tr th {\n",
       "        vertical-align: top;\n",
       "    }\n",
       "\n",
       "    .dataframe thead th {\n",
       "        text-align: right;\n",
       "    }\n",
       "</style>\n",
       "<table border=\"1\" class=\"dataframe\">\n",
       "  <thead>\n",
       "    <tr style=\"text-align: right;\">\n",
       "      <th></th>\n",
       "      <th>sequence</th>\n",
       "      <th>mutation</th>\n",
       "      <th>score</th>\n",
       "      <th>mutated_sequence</th>\n",
       "      <th>embedding</th>\n",
       "    </tr>\n",
       "  </thead>\n",
       "  <tbody>\n",
       "    <tr>\n",
       "      <th>0</th>\n",
       "      <td>MKTLLVLLLGAAGG</td>\n",
       "      <td>G13A</td>\n",
       "      <td>0.92</td>\n",
       "      <td>MKTLLVLLLGAAAG</td>\n",
       "      <td>[0.016369378, 0.20922367, 0.24752869, 0.189788...</td>\n",
       "    </tr>\n",
       "    <tr>\n",
       "      <th>1</th>\n",
       "      <td>MKTLLVLLLGAAGG</td>\n",
       "      <td>G13D</td>\n",
       "      <td>0.45</td>\n",
       "      <td>MKTLLVLLLGAADG</td>\n",
       "      <td>[-0.021203855, 0.035817057, 0.25660914, 0.1874...</td>\n",
       "    </tr>\n",
       "    <tr>\n",
       "      <th>2</th>\n",
       "      <td>MKTLLVLLLGAAGG</td>\n",
       "      <td>G13V</td>\n",
       "      <td>0.12</td>\n",
       "      <td>MKTLLVLLLGAAVG</td>\n",
       "      <td>[0.01610994, 0.23487134, 0.30792505, 0.2103723...</td>\n",
       "    </tr>\n",
       "    <tr>\n",
       "      <th>3</th>\n",
       "      <td>MKTLLVLLLGAAGG</td>\n",
       "      <td>L5P</td>\n",
       "      <td>0.78</td>\n",
       "      <td>MKTLPVLLLGAAGG</td>\n",
       "      <td>[-0.07309258, 0.019085575, 0.22213294, 0.19425...</td>\n",
       "    </tr>\n",
       "    <tr>\n",
       "      <th>4</th>\n",
       "      <td>MKTLLVLLLGAAGG</td>\n",
       "      <td>L5F</td>\n",
       "      <td>0.33</td>\n",
       "      <td>MKTLFVLLLGAAGG</td>\n",
       "      <td>[-0.025348786, 0.14206602, 0.24159305, 0.19302...</td>\n",
       "    </tr>\n",
       "    <tr>\n",
       "      <th>5</th>\n",
       "      <td>MKTLLVLLLGAAGG</td>\n",
       "      <td>L5S</td>\n",
       "      <td>0.15</td>\n",
       "      <td>MKTLSVLLLGAAGG</td>\n",
       "      <td>[-0.061086595, 0.11706587, 0.22230922, 0.15267...</td>\n",
       "    </tr>\n",
       "    <tr>\n",
       "      <th>6</th>\n",
       "      <td>MKTLLVLLLGAAGG</td>\n",
       "      <td>A11T</td>\n",
       "      <td>0.88</td>\n",
       "      <td>MKTLLVLLLGTAGG</td>\n",
       "      <td>[0.0010373108, 0.12275866, 0.27234566, 0.21511...</td>\n",
       "    </tr>\n",
       "    <tr>\n",
       "      <th>7</th>\n",
       "      <td>MKTLLVLLLGAAGG</td>\n",
       "      <td>A11G</td>\n",
       "      <td>0.51</td>\n",
       "      <td>MKTLLVLLLGGAGG</td>\n",
       "      <td>[-0.024962382, 0.05335851, 0.2446322, 0.269901...</td>\n",
       "    </tr>\n",
       "    <tr>\n",
       "      <th>8</th>\n",
       "      <td>MKTLLVLLLGAAGG</td>\n",
       "      <td>A11C</td>\n",
       "      <td>0.09</td>\n",
       "      <td>MKTLLVLLLGCAGG</td>\n",
       "      <td>[-0.013253654, 0.063041046, 0.24657904, 0.2604...</td>\n",
       "    </tr>\n",
       "    <tr>\n",
       "      <th>9</th>\n",
       "      <td>MKTLLVLLLGAAGG</td>\n",
       "      <td>K2R</td>\n",
       "      <td>0.95</td>\n",
       "      <td>MRTLLVLLLGAAGG</td>\n",
       "      <td>[-0.0016255928, 0.07183409, 0.26255524, 0.2034...</td>\n",
       "    </tr>\n",
       "    <tr>\n",
       "      <th>10</th>\n",
       "      <td>MKTLLVLLLGAAGG</td>\n",
       "      <td>K2E</td>\n",
       "      <td>0.40</td>\n",
       "      <td>METLLVLLLGAAGG</td>\n",
       "      <td>[0.04607294, -0.040686116, 0.36574987, 0.20138...</td>\n",
       "    </tr>\n",
       "    <tr>\n",
       "      <th>11</th>\n",
       "      <td>MKTLLVLLLGAAGG</td>\n",
       "      <td>K2Q</td>\n",
       "      <td>0.18</td>\n",
       "      <td>MQTLLVLLLGAAGG</td>\n",
       "      <td>[0.029230818, 0.019588314, 0.33817205, 0.17982...</td>\n",
       "    </tr>\n",
       "  </tbody>\n",
       "</table>\n",
       "</div>"
      ],
      "text/plain": [
       "          sequence mutation  score mutated_sequence  \\\n",
       "0   MKTLLVLLLGAAGG     G13A   0.92   MKTLLVLLLGAAAG   \n",
       "1   MKTLLVLLLGAAGG     G13D   0.45   MKTLLVLLLGAADG   \n",
       "2   MKTLLVLLLGAAGG     G13V   0.12   MKTLLVLLLGAAVG   \n",
       "3   MKTLLVLLLGAAGG      L5P   0.78   MKTLPVLLLGAAGG   \n",
       "4   MKTLLVLLLGAAGG      L5F   0.33   MKTLFVLLLGAAGG   \n",
       "5   MKTLLVLLLGAAGG      L5S   0.15   MKTLSVLLLGAAGG   \n",
       "6   MKTLLVLLLGAAGG     A11T   0.88   MKTLLVLLLGTAGG   \n",
       "7   MKTLLVLLLGAAGG     A11G   0.51   MKTLLVLLLGGAGG   \n",
       "8   MKTLLVLLLGAAGG     A11C   0.09   MKTLLVLLLGCAGG   \n",
       "9   MKTLLVLLLGAAGG      K2R   0.95   MRTLLVLLLGAAGG   \n",
       "10  MKTLLVLLLGAAGG      K2E   0.40   METLLVLLLGAAGG   \n",
       "11  MKTLLVLLLGAAGG      K2Q   0.18   MQTLLVLLLGAAGG   \n",
       "\n",
       "                                            embedding  \n",
       "0   [0.016369378, 0.20922367, 0.24752869, 0.189788...  \n",
       "1   [-0.021203855, 0.035817057, 0.25660914, 0.1874...  \n",
       "2   [0.01610994, 0.23487134, 0.30792505, 0.2103723...  \n",
       "3   [-0.07309258, 0.019085575, 0.22213294, 0.19425...  \n",
       "4   [-0.025348786, 0.14206602, 0.24159305, 0.19302...  \n",
       "5   [-0.061086595, 0.11706587, 0.22230922, 0.15267...  \n",
       "6   [0.0010373108, 0.12275866, 0.27234566, 0.21511...  \n",
       "7   [-0.024962382, 0.05335851, 0.2446322, 0.269901...  \n",
       "8   [-0.013253654, 0.063041046, 0.24657904, 0.2604...  \n",
       "9   [-0.0016255928, 0.07183409, 0.26255524, 0.2034...  \n",
       "10  [0.04607294, -0.040686116, 0.36574987, 0.20138...  \n",
       "11  [0.029230818, 0.019588314, 0.33817205, 0.17982...  "
      ]
     },
     "execution_count": 7,
     "metadata": {},
     "output_type": "execute_result"
    }
   ],
   "source": [
    "#Generate embeddings\n",
    "from tqdm import tqdm\n",
    "\n",
    "def get_embedding(sequence):\n",
    "    tokens = tokenizer(sequence, return_tensors=\"pt\")\n",
    "    with torch.no_grad():\n",
    "        outputs = model(**tokens)\n",
    "    return outputs.last_hidden_state.mean(dim=1).squeeze().numpy()\n",
    "\n",
    "df[\"embedding\"] = [get_embedding(seq) for seq in tqdm(df[\"mutated_sequence\"])]\n",
    "df"
   ]
  },
  {
   "cell_type": "code",
   "execution_count": 8,
   "id": "87ad2e1e",
   "metadata": {},
   "outputs": [
    {
     "name": "stdout",
     "output_type": "stream",
     "text": [
      "R² on test set: -1.13\n"
     ]
    }
   ],
   "source": [
    "#Train a regression model\n",
    "from sklearn.linear_model import Ridge\n",
    "from sklearn.model_selection import train_test_split\n",
    "\n",
    "X = list(df[\"embedding\"])\n",
    "y = df[\"score\"]\n",
    "\n",
    "X_train, X_test, y_train, y_test = train_test_split(X, y, test_size=0.2)\n",
    "\n",
    "regressor = Ridge()\n",
    "regressor.fit(X_train, y_train)\n",
    "\n",
    "r2 = regressor.score(X_test, y_test)\n",
    "print(f\"R² on test set: {r2:.2f}\")"
   ]
  },
  {
   "cell_type": "code",
   "execution_count": 9,
   "id": "83bc5d13",
   "metadata": {},
   "outputs": [
    {
     "name": "stdout",
     "output_type": "stream",
     "text": [
      "Predicted impact score: 0.70\n"
     ]
    }
   ],
   "source": [
    "test_seq = apply_mutation(\"MKTLLVLLLGAAGG\", \"G13A\")\n",
    "embedding = get_embedding(test_seq).reshape(1, -1)\n",
    "predicted_score = regressor.predict(embedding)[0]\n",
    "print(f\"Predicted impact score: {predicted_score:.2f}\")"
   ]
  }
 ],
 "metadata": {
  "kernelspec": {
   "display_name": "Python (brainbot)",
   "language": "python",
   "name": "brainbot"
  },
  "language_info": {
   "codemirror_mode": {
    "name": "ipython",
    "version": 3
   },
   "file_extension": ".py",
   "mimetype": "text/x-python",
   "name": "python",
   "nbconvert_exporter": "python",
   "pygments_lexer": "ipython3",
   "version": "3.10.18"
  }
 },
 "nbformat": 4,
 "nbformat_minor": 5
}
