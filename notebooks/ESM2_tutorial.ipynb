{
 "cells": [
  {
   "cell_type": "markdown",
   "id": "ba5d46e6",
   "metadata": {},
   "source": [
    "Generate embeddings from protein sequence data using lightweight ESM2 model"
   ]
  },
  {
   "cell_type": "code",
   "execution_count": 2,
   "id": "4241fe63",
   "metadata": {},
   "outputs": [
    {
     "name": "stderr",
     "output_type": "stream",
     "text": [
      "/home/linux/miniconda3/envs/brainbot/lib/python3.10/site-packages/tqdm/auto.py:21: TqdmWarning: IProgress not found. Please update jupyter and ipywidgets. See https://ipywidgets.readthedocs.io/en/stable/user_install.html\n",
      "  from .autonotebook import tqdm as notebook_tqdm\n",
      "Some weights of EsmModel were not initialized from the model checkpoint at facebook/esm2_t6_8M_UR50D and are newly initialized: ['pooler.dense.bias', 'pooler.dense.weight']\n",
      "You should probably TRAIN this model on a down-stream task to be able to use it for predictions and inference.\n"
     ]
    },
    {
     "name": "stdout",
     "output_type": "stream",
     "text": [
      "Embedding shape: torch.Size([1, 16, 320])\n"
     ]
    }
   ],
   "source": [
    "from transformers import EsmModel, EsmTokenizer\n",
    "import torch\n",
    "\n",
    "# Load large ESM-2 model\n",
    "model_name = \"facebook/esm2_t6_8M_UR50D\"\n",
    "tokenizer = EsmTokenizer.from_pretrained(model_name)\n",
    "model = EsmModel.from_pretrained(model_name)\n",
    "\n",
    "#Example protein sequence\n",
    "sequence = \"MKTLLVLLLGAAGG\"\n",
    "tokens = tokenizer(sequence, return_tensors=\"pt\")\n",
    "\n",
    "# Generate embeddings quickly\n",
    "embeddings = model(**tokens).last_hidden_state\n",
    "print(f\"Embedding shape: {embeddings.shape}\")"
   ]
  },
  {
   "cell_type": "markdown",
   "id": "5dfc096a",
   "metadata": {},
   "source": [
    "Protein mutation effect analysis"
   ]
  },
  {
   "cell_type": "code",
   "execution_count": null,
   "id": "aafa24c4",
   "metadata": {},
   "outputs": [
    {
     "name": "stderr",
     "output_type": "stream",
     "text": [
      "Some weights of EsmModel were not initialized from the model checkpoint at facebook/esm2_t12_35M_UR50D and are newly initialized: ['pooler.dense.bias', 'pooler.dense.weight']\n",
      "You should probably TRAIN this model on a down-stream task to be able to use it for predictions and inference.\n"
     ]
    },
    {
     "name": "stdout",
     "output_type": "stream",
     "text": [
      "Mutation Impact Score: 0.9933467507362366\n"
     ]
    }
   ],
   "source": [
    "# Load mid-weight ESM-2 model\n",
    "model_name = \"facebook/esm2_t12_35M_UR50D\" \n",
    "tokenizer = EsmTokenizer.from_pretrained(model_name)\n",
    "model = EsmModel.from_pretrained(model_name)\n",
    "\n",
    "# Example wild-type sequence\n",
    "sequence = \"MKTLLVLLLGAAGG\"\n",
    "\n",
    "# Introduce mutation (G -> A at position 13)\n",
    "mutated_sequence = \"MKTLLVLLLGAAGG\".replace(\"G\", \"A\", 1)\n",
    "\n",
    "# Tokenize sequences\n",
    "tokens_wt = tokenizer(sequence, return_tensors=\"pt\")\n",
    "tokens_mut = tokenizer(mutated_sequence, return_tensors=\"pt\")\n",
    "\n",
    "# Generate embeddings\n",
    "embeddings_wt = model(**tokens_wt).last_hidden_state\n",
    "embeddings_mut = model(**tokens_mut).last_hidden_state\n",
    "\n",
    "# Compute similarity (cosine similarity, lower values means proteins phenotype is affected, closer to 1 means minimal or no effect)\n",
    "similarity = torch.nn.functional.cosine_similarity(embeddings_wt.mean(dim=1), embeddings_mut.mean(dim=1))\n",
    "print(f\"Mutation Impact Score: {similarity.item()}\")\n"
   ]
  },
  {
   "cell_type": "code",
   "execution_count": null,
   "id": "dd4f01b2",
   "metadata": {},
   "outputs": [],
   "source": []
  }
 ],
 "metadata": {
  "kernelspec": {
   "display_name": "Python (brainbot)",
   "language": "python",
   "name": "brainbot"
  },
  "language_info": {
   "codemirror_mode": {
    "name": "ipython",
    "version": 3
   },
   "file_extension": ".py",
   "mimetype": "text/x-python",
   "name": "python",
   "nbconvert_exporter": "python",
   "pygments_lexer": "ipython3",
   "version": "3.10.18"
  }
 },
 "nbformat": 4,
 "nbformat_minor": 5
}
